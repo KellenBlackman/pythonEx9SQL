{
 "cells": [
  {
   "cell_type": "markdown",
   "metadata": {},
   "source": [
    "# Exercise 9: SQL Queries in Python"
   ]
  },
  {
   "cell_type": "markdown",
   "metadata": {},
   "source": [
    "## 1. Stepwise Creation of SQL Queries"
   ]
  },
  {
   "cell_type": "code",
   "execution_count": 19,
   "metadata": {},
   "outputs": [
    {
     "name": "stdout",
     "output_type": "stream",
     "text": [
      "The string literal for the query is STATEFP = '02'\n",
      "The string variable for the query STATEFP = '02'\n"
     ]
    }
   ],
   "source": [
    "query_1_copied = \"STATEFP = '02'\"\n",
    "print(\"The string literal for the query is {0}\".format(\"STATEFP = '02'\"))\n",
    "print(\"The string variable for the query {0}\".format(query_1_copied))"
   ]
  },
  {
   "cell_type": "code",
   "execution_count": 16,
   "metadata": {},
   "outputs": [
    {
     "name": "stdout",
     "output_type": "stream",
     "text": [
      "STATEFP = '02'\n"
     ]
    }
   ],
   "source": [
    "alaska_fp = '02'\n",
    "query_1 = \"STATEFP = \\'{0}\\'\".format(alaska_fp)\n",
    "print(query_1)"
   ]
  },
  {
   "cell_type": "code",
   "execution_count": 20,
   "metadata": {},
   "outputs": [
    {
     "name": "stdout",
     "output_type": "stream",
     "text": [
      "The string literal for the query is STATEFP = '41' Or STATEFP = '30' Or STATEFP = '53'\n",
      "The string variable for the query STATEFP = '41' Or STATEFP = '30' Or STATEFP = '53'\n"
     ]
    }
   ],
   "source": [
    "query_2_copied = \"STATEFP = '41' Or STATEFP = '30' Or STATEFP = '53'\"\n",
    "print(\"The string literal for the query is {0}\".format(\"STATEFP = '41' Or STATEFP = '30' Or STATEFP = '53'\"))\n",
    "print(\"The string variable for the query {0}\".format(query_2_copied))"
   ]
  },
  {
   "cell_type": "code",
   "execution_count": 24,
   "metadata": {},
   "outputs": [
    {
     "name": "stdout",
     "output_type": "stream",
     "text": [
      "STATEFP = '41' or STATEFP = '30' or STATEFP = '53'\n"
     ]
    }
   ],
   "source": [
    "washington_fp = '53'\n",
    "oregon_fp = '41'\n",
    "montana_fp = '30'\n",
    "query_2 = \"STATEFP = \\'{0}\\' or STATEFP = \\'{1}\\' or STATEFP = \\'{2}\\'\".format(oregon_fp, montana_fp, washington_fp)\n",
    "print(query_2)"
   ]
  },
  {
   "cell_type": "code",
   "execution_count": 22,
   "metadata": {},
   "outputs": [
    {
     "name": "stdout",
     "output_type": "stream",
     "text": [
      "The string literal for the query is pop >= 500000\n",
      "The string variable for the query pop >= 500000\n"
     ]
    }
   ],
   "source": [
    "query_3_copied = \"pop >= 500000\"\n",
    "print(\"The string literal for the query is {0}\".format(\"pop >= 500000\"))\n",
    "print(\"The string variable for the query {0}\".format(query_3_copied))"
   ]
  },
  {
   "cell_type": "code",
   "execution_count": 25,
   "metadata": {},
   "outputs": [
    {
     "name": "stdout",
     "output_type": "stream",
     "text": [
      "pop >= 500000\n"
     ]
    }
   ],
   "source": [
    "pop_filter = \"500000\"\n",
    "query_3 = \"pop >= {0}\".format(pop_filter)\n",
    "print(query_3)"
   ]
  },
  {
   "cell_type": "code",
   "execution_count": 26,
   "metadata": {},
   "outputs": [
    {
     "name": "stdout",
     "output_type": "stream",
     "text": [
      "The string literal for the query is nam = 'Albany'\n",
      "The string variable for the query nam = 'Albany'\n"
     ]
    }
   ],
   "source": [
    "query_4_copied = \"nam = 'Albany'\"\n",
    "print(\"The string literal for the query is {0}\".format(\"nam = 'Albany'\"))\n",
    "print(\"The string variable for the query {0}\".format(query_4_copied))"
   ]
  },
  {
   "cell_type": "code",
   "execution_count": 29,
   "metadata": {},
   "outputs": [
    {
     "name": "stdout",
     "output_type": "stream",
     "text": [
      "nam = 'Albany'\n"
     ]
    }
   ],
   "source": [
    "name_filter = 'Albany'\n",
    "query_4 = \"nam = \\'{0}\\'\".format(name_filter)\n",
    "print(query_4)"
   ]
  },
  {
   "cell_type": "code",
   "execution_count": 30,
   "metadata": {},
   "outputs": [
    {
     "name": "stdout",
     "output_type": "stream",
     "text": [
      "The string literal for the query is pop > 10000 And pop < 100000\n",
      "The string variable for the query pop > 10000 And pop < 100000\n"
     ]
    }
   ],
   "source": [
    "query_5_copied = \"pop > 10000 And pop < 100000\"\n",
    "print(\"The string literal for the query is {0}\".format(\"pop > 10000 And pop < 100000\"))\n",
    "print(\"The string variable for the query {0}\".format(query_5_copied))"
   ]
  },
  {
   "cell_type": "code",
   "execution_count": 32,
   "metadata": {},
   "outputs": [
    {
     "name": "stdout",
     "output_type": "stream",
     "text": [
      "pop > 10000 And pop < 100000\n"
     ]
    }
   ],
   "source": [
    "pop_low = 10000\n",
    "pop_high = 100000\n",
    "query_5 = \"pop > {0} And pop < {1}\".format(pop_low, pop_high)\n",
    "print(query_5)"
   ]
  },
  {
   "cell_type": "markdown",
   "metadata": {},
   "source": [
    "## Section 2 - Select counties in three states"
   ]
  },
  {
   "cell_type": "code",
   "execution_count": 38,
   "metadata": {},
   "outputs": [
    {
     "name": "stdout",
     "output_type": "stream",
     "text": [
      "Enter the first state fp for filtering:01\n",
      "Enter the second state fp for filtering:02\n",
      "Enter the third state fp for filtering:04\n",
      "You entered:STATEFP = '01' or STATEFP = '02' or STATEFP = '04'\n"
     ]
    }
   ],
   "source": [
    "state_1_fp = input(\"Enter the first state fp for filtering:\")\n",
    "state_2_fp = input(\"Enter the second state fp for filtering:\")\n",
    "state_3_fp = input(\"Enter the third state fp for filtering:\")\n",
    "state_query = \"STATEFP = \\'{0}\\' or STATEFP = \\'{1}\\' or STATEFP = \\'{2}\\'\".format(state_1_fp, \n",
    "                                                                                   state_2_fp, \n",
    "                                                                                   state_3_fp)\n",
    "print(\"You entered:{0}\".format(state_query))"
   ]
  },
  {
   "cell_type": "code",
   "execution_count": 37,
   "metadata": {},
   "outputs": [
    {
     "data": {
      "text/html": [
       "<h2>Output</h2>D:/Documents/ArcGIS/Projects/Exercise9SQL/tl_2019_us_counties\\state_query_results.shp<h2>Messages</h2>Start Time: Sunday, November 7, 2021 2:44:44 PM<br/>Succeeded at Sunday, November 7, 2021 2:44:45 PM (Elapsed Time: 0.30 seconds)<br/><style>.rendered_html td, .rendered_html th {text-align: left;}.rendered_html tbody {border: 1px solid black;}</style>"
      ],
      "text/plain": [
       "<Result 'D:/Documents/ArcGIS/Projects/Exercise9SQL/tl_2019_us_counties\\\\state_query_results.shp'>"
      ]
     },
     "execution_count": 37,
     "metadata": {},
     "output_type": "execute_result"
    }
   ],
   "source": [
    "import arcpy\n",
    "from arcpy import env\n",
    "\n",
    "env.workspace = \"D:/Documents/ArcGIS/Projects/Exercise9SQL/tl_2019_us_counties\"\n",
    "arcpy.Select_analysis(\"tl_2019_us_county.shp\", \"state_query_results\", state_query)"
   ]
  },
  {
   "cell_type": "markdown",
   "metadata": {},
   "source": [
    "## Git History"
   ]
  },
  {
   "attachments": {},
   "cell_type": "markdown",
   "metadata": {},
   "source": [
    "![GitHist.JPG](https://drive.google.com/file/d/14ONtD1QeIuls79cIdVzGCAc3hLMnqBG3/view?usp=sharing)"
   ]
  },
  {
   "cell_type": "code",
   "execution_count": null,
   "metadata": {},
   "outputs": [],
   "source": []
  }
 ],
 "metadata": {
  "kernelspec": {
   "display_name": "ArcGISPro",
   "language": "Python",
   "name": "python3"
  },
  "language_info": {
   "file_extension": ".py",
   "name": "python",
   "version": "3"
  }
 },
 "nbformat": 4,
 "nbformat_minor": 2
}
